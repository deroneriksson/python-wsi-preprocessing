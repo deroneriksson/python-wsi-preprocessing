{
 "cells": [
  {
   "cell_type": "code",
   "execution_count": null,
   "metadata": {
    "scrolled": true
   },
   "outputs": [],
   "source": [
    "%reload_ext autoreload\n",
    "%autoreload 2\n",
    "%matplotlib inline\n",
    "#%matplotlib notebook\n",
    "import numpy as np\n",
    "from tqdm import tqdm_notebook as tqdm\n",
    "import pathlib\n",
    "from pathlib import Path\n",
    "Path.ls = lambda x: [p for p in list(x.iterdir()) if '.ipynb_checkpoints' not in p.name]\n",
    "import pandas as pd\n",
    "import PIL\n",
    "from wsi import slide, filter, tiles, util\n",
    "\n",
    "\n",
    "base_path = Path('/home/Deep_Learner/shared/Datasets/Hypophysenadenome/')\n",
    "wsis_path = base_path/'wsis_experimenting'\n",
    "rois_path = base_path/'rois_experimenting'\n",
    "tiles_path = base_path/'tiles_experimenting'\n",
    "wsis_path.mkdir(exist_ok=True)\n",
    "tiles_path.mkdir(exist_ok=True)"
   ]
  },
  {
   "cell_type": "markdown",
   "metadata": {},
   "source": [
    "# WSIs"
   ]
  },
  {
   "cell_type": "markdown",
   "metadata": {},
   "source": [
    "## Process one WSI"
   ]
  },
  {
   "cell_type": "code",
   "execution_count": null,
   "metadata": {
    "scrolled": true
   },
   "outputs": [],
   "source": [
    "p = wsis_path.ls()[0];p\n",
    "df = tiles.WsiOrROIToTiles(wsiPath=p, \n",
    "                      tilesFolderPath=tiles_path, \n",
    "                      tile_height=256,tile_width=256, \n",
    "                      tile_naming_func=tiles.get_wsi_name_from_path_pituitary_adenoma_entities,\n",
    "                      save_tiles=False, \n",
    "                      tile_score_thresh = 0.55)\n",
    "df.head()"
   ]
  },
  {
   "cell_type": "markdown",
   "metadata": {},
   "source": [
    "## Process multiple WSIs in parallel"
   ]
  },
  {
   "cell_type": "code",
   "execution_count": null,
   "metadata": {
    "scrolled": true
   },
   "outputs": [],
   "source": [
    "df = tiles.WsiOrROIToTilesMultithreaded(wsis_path.ls()[:2], \n",
    "                                   tiles_path, \n",
    "                                   256, \n",
    "                                   256, \n",
    "                                   tile_naming_func=tiles.get_wsi_name_from_path_pituitary_adenoma_entities, \n",
    "                                   save_tiles=False)\n",
    "df.head()"
   ]
  },
  {
   "cell_type": "markdown",
   "metadata": {},
   "source": [
    "## Extract one tile directly from a WSI at a specific level"
   ]
  },
  {
   "cell_type": "code",
   "execution_count": null,
   "metadata": {},
   "outputs": [],
   "source": [
    "p = wsis_path.ls()[0];p"
   ]
  },
  {
   "cell_type": "code",
   "execution_count": null,
   "metadata": {},
   "outputs": [],
   "source": [
    "s = slide.open_slide(p)"
   ]
  },
  {
   "cell_type": "code",
   "execution_count": null,
   "metadata": {},
   "outputs": [],
   "source": [
    "s.level_dimensions"
   ]
  },
  {
   "cell_type": "code",
   "execution_count": null,
   "metadata": {},
   "outputs": [],
   "source": [
    "tiles.ExtractTileFromWSI(p, x=0,y=0, width=1232,height=840,level=5)"
   ]
  },
  {
   "cell_type": "markdown",
   "metadata": {},
   "source": [
    "# ROIs"
   ]
  },
  {
   "cell_type": "markdown",
   "metadata": {},
   "source": [
    "## Process one ROI"
   ]
  },
  {
   "cell_type": "code",
   "execution_count": null,
   "metadata": {},
   "outputs": [],
   "source": [
    "p = rois_path.ls()[0];p\n",
    "\n",
    "tiles.WsiOrROIToTiles(wsiPath=p, \n",
    "                      tilesFolderPath=tiles_path, \n",
    "                      tile_height=1024,\n",
    "                      tile_width=1024, \n",
    "                      is_wsi=False, \n",
    "                      tile_naming_func=tiles.get_roi_name_from_path_pituitary_adenoma_entities, \n",
    "                      save_tiles=True)\n",
    "\n",
    "util.show_multiple_images_big(tiles_path.ls()[:2])"
   ]
  },
  {
   "cell_type": "markdown",
   "metadata": {},
   "source": [
    "## Extract one tile directly from a ROI"
   ]
  },
  {
   "cell_type": "code",
   "execution_count": null,
   "metadata": {},
   "outputs": [],
   "source": [
    "p = rois_path.ls()[0];p\n",
    "\n",
    "img = PIL.Image.open(p)\n",
    "\n",
    "print(img.size)\n",
    "\n",
    "tiles.ExtractTileFromPILImage(p, 1000, 1000, 512, 512)"
   ]
  }
 ],
 "metadata": {
  "kernelspec": {
   "display_name": "DLM Py3",
   "language": "python",
   "name": "python3"
  },
  "language_info": {
   "codemirror_mode": {
    "name": "ipython",
    "version": 3
   },
   "file_extension": ".py",
   "mimetype": "text/x-python",
   "name": "python",
   "nbconvert_exporter": "python",
   "pygments_lexer": "ipython3",
   "version": "3.7.3"
  },
  "toc": {
   "base_numbering": 1,
   "nav_menu": {},
   "number_sections": true,
   "sideBar": true,
   "skip_h1_title": false,
   "title_cell": "Table of Contents",
   "title_sidebar": "Contents",
   "toc_cell": false,
   "toc_position": {
    "height": "calc(100% - 180px)",
    "left": "10px",
    "top": "150px",
    "width": "258px"
   },
   "toc_section_display": true,
   "toc_window_display": true
  }
 },
 "nbformat": 4,
 "nbformat_minor": 2
}
